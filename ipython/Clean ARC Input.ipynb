{
 "cells": [
  {
   "cell_type": "markdown",
   "metadata": {},
   "source": [
    "# Clean ARC Input\n",
    "This note book aims to help clean the ARC input species section before submitting the ARC job. You can provide libraries to avoid species included in the ARC input to be further calculated. You can also provide a filter species dictionary to avoid further calculating these species as well.\n",
    "\n",
    "You can also find a script version under `../scripts/`"
   ]
  },
  {
   "cell_type": "code",
   "execution_count": null,
   "metadata": {},
   "outputs": [],
   "source": [
    "import os\n",
    "import copy\n",
    "\n",
    "from easy_rmg_model.common import (read_yaml_file,\n",
    "                                   regularize_path,\n",
    "                                   save_yaml_file)\n",
    "from easy_rmg_model.rmg2arc.arc_input import (combine_arc_species_inputs,\n",
    "                                              combine_spc_info,\n",
    "                                              find_species_from_spc_dict,)\n",
    "from easy_rmg_model.rmg2arc.species_dict import (load_spc_dict,\n",
    "                                                 species_from_spc_info)\n",
    "from easy_rmg_model.rmg2arc.thermo_db import (load_thermo_database,\n",
    "                                              load_thermo_lib_by_path)"
   ]
  },
  {
   "cell_type": "markdown",
   "metadata": {},
   "source": [
    "## INPUT\n",
    "- `input_file`: The ARC input file to be cleaned.\n",
    "- `libraries_path`: Path to a yaml file contains the thermo library list to be checked. If any entry is included in the library, it will be removed from the input file.\n",
    "- `filter_spc_dict`: Path to a file contains the species to be filtered.\n",
    "- `output_path`: Path to save the resulted cleaned ARC input"
   ]
  },
  {
   "cell_type": "code",
   "execution_count": null,
   "metadata": {},
   "outputs": [],
   "source": [
    "input_file = \"/Users/xiaorui/Apps/ARC_lite/script/input_sens.yml\"\n",
    "libraries_path = \"./library.yml\"\n",
    "filter_spc_dict = None\n",
    "output_path = './input_cleaned.yml'"
   ]
  },
  {
   "cell_type": "markdown",
   "metadata": {},
   "source": [
    "## Step 1. Read species information from uncleaned ARC input"
   ]
  },
  {
   "cell_type": "code",
   "execution_count": null,
   "metadata": {},
   "outputs": [],
   "source": [
    "# Get species info in the input file\n",
    "arc_input_species = read_yaml_file(input_file)['species']\n",
    "spc_info = {spc['label']: spc for spc in arc_input_species}"
   ]
  },
  {
   "cell_type": "markdown",
   "metadata": {},
   "source": [
    "## Step 2. Filter by the provided filtering species dictionary"
   ]
  },
  {
   "cell_type": "code",
   "execution_count": null,
   "metadata": {},
   "outputs": [],
   "source": [
    "if filter_spc_dict:\n",
    "    # Load filtered species dictionary\n",
    "    filter_spc_dict = load_spc_dict(filter_spc_dict)\n",
    "    # Clean work\n",
    "    clean = []\n",
    "    for label, spc in spc_info.items():\n",
    "        dict_label, _ = find_species_from_spc_dict(spc, filter_spc_dict)\n",
    "        if not dict_label:  # cannot find species\n",
    "            clean.append(label)\n",
    "        else:\n",
    "            print(f'Warning: species {label} is cleaned out due to belonging '\n",
    "                  f'to filtered species dictionary')\n",
    "    spc_info = {label: spc for label, spc in spc_info.items()\n",
    "                if label in clean}"
   ]
  },
  {
   "cell_type": "markdown",
   "metadata": {},
   "source": [
    "## Step 3. Filter by the provided thermo libraries"
   ]
  },
  {
   "cell_type": "code",
   "execution_count": null,
   "metadata": {
    "scrolled": true
   },
   "outputs": [],
   "source": [
    "if libraries_path:\n",
    "    # Load thermo libraries\n",
    "    libraries = read_yaml_file(libraries_path)\n",
    "    thermo_db = load_thermo_database(libraries=libraries['built-in_libs'])\n",
    "    for t_lib in libraries['external_libs']:\n",
    "        load_thermo_lib_by_path(t_lib, thermo_db)\n",
    "    \n",
    "    # Clean work\n",
    "    clean = []\n",
    "    for label, spc in spc_info.items():\n",
    "        try:\n",
    "            thermo_data = thermo_db.get_all_thermo_data(\n",
    "                species_from_spc_info(spc))\n",
    "        except:\n",
    "            print(f'Warning: Cannot generate thermo for {label}.')\n",
    "            continue\n",
    "        if len(thermo_data) <= 1:  # Only GAV availabel\n",
    "            clean.append(label)\n",
    "        else:\n",
    "            print(f'Warning: species {label} is cleaned out due to existing '\n",
    "                  f'in thermo libraries')\n",
    "    spc_info = {label: spc for label, spc in spc_info.items()\n",
    "                if label in clean}"
   ]
  },
  {
   "cell_type": "markdown",
   "metadata": {},
   "source": [
    "## Step 4. Remove all duplicated entries\n",
    "determined by their geometry"
   ]
  },
  {
   "cell_type": "code",
   "execution_count": null,
   "metadata": {
    "scrolled": true
   },
   "outputs": [],
   "source": [
    "cleaned_info = {}\n",
    "cleaned_spc_dict = {}\n",
    "for label, spc in spc_info.items():\n",
    "    cleaned_info = combine_spc_info(spc_info1=cleaned_info,\n",
    "                                    spc_info2={label: spc},\n",
    "                                    spc_dict=cleaned_spc_dict)\n",
    "    "
   ]
  },
  {
   "cell_type": "markdown",
   "metadata": {},
   "source": [
    "## Step 5. Change the species label\n",
    "If there is `()#` in the label, this can cause problems in the ARC job"
   ]
  },
  {
   "cell_type": "code",
   "execution_count": null,
   "metadata": {},
   "outputs": [],
   "source": [
    "replace_list = [\"(\", \")\", \"#\"]"
   ]
  },
  {
   "cell_type": "code",
   "execution_count": null,
   "metadata": {},
   "outputs": [],
   "source": [
    "for spc in cleaned_info.values():\n",
    "    for symbol in replace_list:\n",
    "        if symbol in spc['label']:\n",
    "            spc['label'] = spc['label'].replace(symbol, \"_\")"
   ]
  },
  {
   "cell_type": "markdown",
   "metadata": {},
   "source": [
    "## Step 6. Save the cleaned results"
   ]
  },
  {
   "cell_type": "code",
   "execution_count": null,
   "metadata": {},
   "outputs": [],
   "source": [
    "arc_input = {'species': [spc for spc in cleaned_info.values()]}\n",
    "if not output_path:\n",
    "    output_path = os.path.join('.', 'input_cleaned.yml')\n",
    "save_yaml_file(output_path, arc_input, overwrite=False)"
   ]
  },
  {
   "cell_type": "code",
   "execution_count": null,
   "metadata": {},
   "outputs": [],
   "source": []
  }
 ],
 "metadata": {
  "@webio": {
   "lastCommId": null,
   "lastKernelId": null
  },
  "kernelspec": {
   "display_name": "Python 3",
   "language": "python",
   "name": "python3"
  },
  "language_info": {
   "codemirror_mode": {
    "name": "ipython",
    "version": 3
   },
   "file_extension": ".py",
   "mimetype": "text/x-python",
   "name": "python",
   "nbconvert_exporter": "python",
   "pygments_lexer": "ipython3",
   "version": "3.7.7"
  }
 },
 "nbformat": 4,
 "nbformat_minor": 4
}

{
 "cells": [
  {
   "cell_type": "markdown",
   "metadata": {},
   "source": [
    "# The ATG tree fitting notebook for RMG kinetics database\n",
    "This is an ATG tree fitting notebook used to create an isomorphic tree for rate estimation based on the training reactions stored in the RMG database. This notebook is originally written by Matthew Johnson and is slightly modified here."
   ]
  },
  {
   "cell_type": "code",
   "execution_count": null,
   "metadata": {
    "scrolled": true
   },
   "outputs": [],
   "source": [
    "from rmgpy import settings\n",
    "from rmgpy.molecule.molecule import *\n",
    "from rmgpy.species import *\n",
    "from rmgpy.chemkin import *\n",
    "from rmgpy.data.rmg import RMGDatabase\n",
    "from rmgpy.species import Species\n",
    "import time\n",
    "import matplotlib.pyplot as plt\n",
    "import matplotlib\n",
    "matplotlib.use('TkAgg')\n",
    "%matplotlib inline"
   ]
  },
  {
   "cell_type": "markdown",
   "metadata": {},
   "source": [
    "Load RMG database"
   ]
  },
  {
   "cell_type": "code",
   "execution_count": null,
   "metadata": {
    "scrolled": true
   },
   "outputs": [],
   "source": [
    "database = RMGDatabase()\n",
    "database.load(\n",
    "            path = settings['database.directory'],\n",
    "            thermo_libraries = [\n",
    "                'primaryThermoLibrary',\n",
    "                'primaryNS',\n",
    "                'thermo_DFT_CCSDTF12_BAC',\n",
    "                'DFT_QCI_thermo',\n",
    "                'SABIC_aromatics',\n",
    "                'Klippenstein_Glarborg2016',\n",
    "                'BurkeH2O2',\n",
    "                'NitrogenCurran',\n",
    "                'NOx2018',\n",
    "                'FFCM1(-)',\n",
    "                'SulfurLibrary',\n",
    "                'SulfurGlarborgH2S',],\n",
    "            transport_libraries = [],\n",
    "            reaction_libraries = [],\n",
    "            seed_mechanisms = [],\n",
    "            kinetics_families = 'all',\n",
    "            kinetics_depositories = ['training'],\n",
    "            depository = False, # Don't bother loading the depository information, as we don't use it\n",
    "        )"
   ]
  },
  {
   "cell_type": "markdown",
   "metadata": {},
   "source": [
    "Enter the family name of the tree to be created"
   ]
  },
  {
   "cell_type": "code",
   "execution_count": null,
   "metadata": {},
   "outputs": [],
   "source": [
    "family_name = \"1,3_sigmatropic_rearrangement\"\n",
    "\n",
    "family = database.kinetics.families[family_name]"
   ]
  },
  {
   "cell_type": "markdown",
   "metadata": {},
   "source": [
    "Training"
   ]
  },
  {
   "cell_type": "code",
   "execution_count": null,
   "metadata": {
    "scrolled": true
   },
   "outputs": [],
   "source": [
    "start = time.time()\n",
    "family.clean_tree()\n",
    "family.generate_tree(thermo_database=database.thermo,\n",
    "                     nprocs=1,  # number of process\n",
    "                     new_fraction_threshold_to_reopt_node=0.25,\n",
    "                     max_batch_size=800,\n",
    "                     extension_iter_max=2,\n",
    "                     extension_iter_item_cap=100)\n",
    "family.check_tree()\n",
    "end = time.time()\n",
    "print(f'Training time: {end - start:.3f} s')"
   ]
  },
  {
   "cell_type": "code",
   "execution_count": null,
   "metadata": {},
   "outputs": [],
   "source": [
    "print(f'Number of nodes: {len(family.groups.entries)}')\n",
    "print('Tree nodes:')\n",
    "family.groups.entries"
   ]
  },
  {
   "cell_type": "markdown",
   "metadata": {},
   "source": [
    "Tree regularization"
   ]
  },
  {
   "cell_type": "code",
   "execution_count": null,
   "metadata": {
    "scrolled": false
   },
   "outputs": [],
   "source": [
    "start = time.time()\n",
    "family.regularize(thermo_database=database.thermo)\n",
    "end = time.time()\n",
    "print(f'Tree regularization: {end - start:.3f} s')"
   ]
  },
  {
   "cell_type": "markdown",
   "metadata": {},
   "source": [
    "Match training reactions for each node"
   ]
  },
  {
   "cell_type": "code",
   "execution_count": null,
   "metadata": {},
   "outputs": [],
   "source": [
    "start = time.time()\n",
    "templateRxnMap = family.get_reaction_matches(thermo_database=database.thermo,\n",
    "                                             remove_degeneracy=True,\n",
    "                                             get_reverse=True,\n",
    "                                             exact_matches_only=False,\n",
    "                                             fix_labels=True)\n",
    "end = time.time()\n",
    "print(f'Training reaction match: {end - start:.3f} s')"
   ]
  },
  {
   "cell_type": "markdown",
   "metadata": {},
   "source": [
    "Clean rate rules and make new rate rules based on ATG"
   ]
  },
  {
   "cell_type": "code",
   "execution_count": null,
   "metadata": {
    "scrolled": false
   },
   "outputs": [],
   "source": [
    "start = time.time()\n",
    "family.clean_tree_rules()\n",
    "family.make_bm_rules_from_template_rxn_map(templateRxnMap)\n",
    "family.check_tree()\n",
    "end = time.time()\n",
    "print(f'Build rate rules: {end - start:.3f} s')"
   ]
  },
  {
   "cell_type": "markdown",
   "metadata": {},
   "source": [
    "Estimate the uncertainty of the ATG rate rule by cross validation"
   ]
  },
  {
   "cell_type": "code",
   "execution_count": null,
   "metadata": {},
   "outputs": [],
   "source": [
    "start = time.time()\n",
    "errors, uncertainties = family.cross_validate(iters=0,\n",
    "                                              random_state=5,\n",
    "                                              folds=0,  # 0 for Leave one out \n",
    "                                              ascend=False)\n",
    "end = time.time()\n",
    "print(f'Cross validation: {end - start:.3f} s')"
   ]
  },
  {
   "cell_type": "markdown",
   "metadata": {},
   "source": [
    "Visualize rate estimation error"
   ]
  },
  {
   "cell_type": "code",
   "execution_count": null,
   "metadata": {},
   "outputs": [],
   "source": [
    "plt.figure(figsize=(10,8))\n",
    "plt.hist(np.abs(list(errors.values())), bins=30, density=True)\n",
    "plt.title('Decision Tree Estimator', fontsize=18)\n",
    "plt.xlim(0,20)\n",
    "plt.ylabel('Probability density', fontsize=18)\n",
    "plt.xlabel(r'$|Ln(k_{est}/k_{rxn})|$', fontsize=18)"
   ]
  },
  {
   "cell_type": "markdown",
   "metadata": {},
   "source": [
    "Save the ATG rate rule to RMG-database"
   ]
  },
  {
   "cell_type": "code",
   "execution_count": null,
   "metadata": {},
   "outputs": [],
   "source": [
    "family.save(os.path.join(settings['database.directory'], 'kinetics', 'families', family_name))"
   ]
  }
 ],
 "metadata": {
  "@webio": {
   "lastCommId": null,
   "lastKernelId": null
  },
  "interpreter": {
   "hash": "53dbc0d90862005b855b9c3f061b543de2b5a83f2595d97da5d41af9acca4641"
  },
  "kernelspec": {
   "display_name": "Python 3.7.7 64-bit ('rmg_env': conda)",
   "language": "python",
   "name": "python3"
  },
  "language_info": {
   "codemirror_mode": {
    "name": "ipython",
    "version": 3
   },
   "file_extension": ".py",
   "mimetype": "text/x-python",
   "name": "python",
   "nbconvert_exporter": "python",
   "pygments_lexer": "ipython3",
   "version": "3.7.7"
  }
 },
 "nbformat": 4,
 "nbformat_minor": 2
}

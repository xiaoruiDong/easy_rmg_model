{
 "cells": [
  {
   "cell_type": "markdown",
   "metadata": {},
   "source": [
    "# Prepare TS input for Arkane"
   ]
  },
  {
   "cell_type": "code",
   "execution_count": null,
   "metadata": {},
   "outputs": [],
   "source": [
    "import os\n",
    "import subprocess\n",
    "from rmgpy.molecule.molecule import Molecule\n",
    "\n",
    "from easy_rmg_model.species.info import (classify_jobs,\n",
    "                                           find_latest_terminated_job,\n",
    "                                           check_converge_and_geom_consist,\n",
    "                                           generate_geom_info,\n",
    "                                           find_rotors_from_xyz,\n",
    "                                           filter_scans,\n",
    "                                           check_scan_quality,\n",
    "                                           generate_summary,)\n",
    "\n",
    "from easy_rmg_model.template_writer.input import ArkaneSpecies\n",
    "\n",
    "from arc.parser import parse_1d_scan_energies\n",
    "from arc.plotter import plot_1d_rotor_scan"
   ]
  },
  {
   "cell_type": "code",
   "execution_count": null,
   "metadata": {},
   "outputs": [],
   "source": [
    "def change_to_relative_path(spc, work_dir='.', get_back=True):\n",
    "    \"\"\"\n",
    "    Change the path to relative path\n",
    "    \"\"\"\n",
    "    # Get the current dir\n",
    "    cur_dir = os.getcwd() if get_back else None\n",
    "\n",
    "    # Point to the working directory\n",
    "    os.chdir(work_dir)\n",
    "    \n",
    "    # Change job directories for composite, sp, freq\n",
    "    for job_type in ['composite', 'sp', 'freq']:\n",
    "        try:\n",
    "            path = spc[job_type]\n",
    "            spc[job_type] = os.path.relpath(path)\n",
    "        except KeyError:\n",
    "            pass\n",
    "    \n",
    "    # Change job directories for rotor scans\n",
    "    try:\n",
    "        rotors_dict = spc['rotors_dict']\n",
    "    except KeyError:\n",
    "        pass\n",
    "    \n",
    "    for ind, rotor in rotors_dict.items():\n",
    "        if rotor['scan_path']:\n",
    "            path = rotor['scan_path']\n",
    "            rotor['scan_path'] = os.path.relpath(path)\n",
    "    \n",
    "    if get_back:\n",
    "        os.chdir(cur_dir)"
   ]
  },
  {
   "cell_type": "code",
   "execution_count": null,
   "metadata": {},
   "outputs": [],
   "source": [
    "# Write Arkane kinetics input according to Template\n",
    "from arkane.encorr.corr import assign_frequency_scale_factor\n",
    "from arkane.input import process_model_chemistry\n",
    "from arkane.modelchem import LOT\n",
    "\n",
    "from easy_rmg_model.template_writer import BaseTemplateWriter\n",
    "\n",
    "\n",
    "class ArkaneKinetics(BaseTemplateWriter):\n",
    "\n",
    "    default_settings = {\n",
    "        'model_chemistry': 'cbs-qb3',\n",
    "        'freq_scale_factor': None,\n",
    "        'use_bond_corrections': False,\n",
    "        'use_hindered_rotors': True,\n",
    "        'reactants': {'': ''},\n",
    "        'products': {'': ''},\n",
    "        'TS': 'TS.py',\n",
    "        'tunneling': 'Eckart',\n",
    "        'template_file': None,\n",
    "        'save_path': './input.py'\n",
    "    }\n",
    "\n",
    "    default_template = \"\"\"#!/usr/bin/env python3\n",
    "# encoding: utf-8\n",
    "\n",
    "title = \"{{ reaction_label | safe }}\"\n",
    "\n",
    "description = \\\n",
    "'''\n",
    "{{ reaction_label | safe }}\n",
    "'''\n",
    "modelChemistry = \"{{ model_chemistry }}\"\n",
    "frequencyScaleFactor = {{ freq_scale_factor }}\n",
    "useHinderedRotors = {{ use_hindered_rotors }}\n",
    "useBondCorrections = {{ use_bond_corrections }}\n",
    "{% for smi, path in reactants %}\n",
    "species(\"{{ smi | safe}}\",\n",
    "        \"{{ path | safe }}\",\n",
    "        structure=SMILES(\"{{ smi | safe }}\"),\n",
    "        )\n",
    "{%- endfor %}\n",
    "{% for smi, path in products %}\n",
    "species(\"{{ smi | safe }}\",\n",
    "        \"{{ path | safe }}\",\n",
    "        structure=SMILES(\"{{ smi | safe }}\"),\n",
    "        )\n",
    "{%- endfor %}\n",
    "\n",
    "transitionState('TS', '{{ TS | safe }}')\n",
    "\n",
    "reaction(\n",
    "    label='{{ reaction_label | safe }}',\n",
    "    reactants={{ reactant_list | safe }},\n",
    "    products={{ product_list | safe }},\n",
    "    transitionState = 'TS',\n",
    "    tunneling='{{ tunneling }}',\n",
    ")\n",
    "\n",
    "kinetics(\n",
    "    label='{{ reaction_label | safe }}',\n",
    "    Tmin = (300,'K'), Tmax = (2000,'K'), Tcount = 200,\n",
    ")\n",
    "\n",
    "\"\"\"\n",
    "\n",
    "    @property\n",
    "    def model_chemistry(self):\n",
    "        return self._model_chemistry\n",
    "\n",
    "    @model_chemistry.setter\n",
    "    def model_chemistry(self, value):\n",
    "        if isinstance(value, str):\n",
    "            self._model_chemistry = process_model_chemistry(value)\n",
    "        elif isinstance(value, LOT):\n",
    "            self._model_chemsitry = value\n",
    "\n",
    "    @property\n",
    "    def freq_scale_factor(self):\n",
    "        if not self._freq_scale_factor:\n",
    "            self._freq_scale_factor = assign_frequency_scale_factor(\n",
    "                self._model_chemistry)\n",
    "        return self._freq_scale_factor\n",
    "\n",
    "    @freq_scale_factor.setter\n",
    "    def freq_scale_factor(self, value):\n",
    "        if value == None or \\\n",
    "           (isinstance(value, (int, float)) and\n",
    "                value > 0 and value < 5):\n",
    "            self._freq_scale_factor = value\n",
    "        else:\n",
    "            raise ValueError(f'Not valid frequency scale factor, got: {value}')\n",
    "\n",
    "    @property\n",
    "    def reaction_label(self):\n",
    "        label = \" + \".join(self.reactant_list)\n",
    "        label += \" <=> \"\n",
    "        label += \" + \".join(self.product_list)\n",
    "        return label\n",
    "    \n",
    "    @property\n",
    "    def reactant_list(self):\n",
    "        return [reactant[0] for reactant in self.reactants]\n",
    "    \n",
    "    @property\n",
    "    def product_list(self):\n",
    "        return [product[0] for product in self.products]\n",
    "\n",
    "    def to_dict(self):\n",
    "        return {'model_chemistry': self. model_chemistry.to_model_chem(),\n",
    "                'freq_scale_factor': self.freq_scale_factor,\n",
    "                'use_bond_corrections': self.use_bond_corrections,\n",
    "                'freq_scale_factor': self.freq_scale_factor,\n",
    "                'use_hindered_rotors': self.use_hindered_rotors,\n",
    "                'reaction_label': self.reaction_label,\n",
    "                'reactants': set(self.reactants),\n",
    "                'products': set(self.products),\n",
    "                'TS': self.TS,\n",
    "                'reactant_list': self.reactant_list,\n",
    "                'product_list': self.product_list,\n",
    "                'tunneling': self.tunneling,\n",
    "                'save_path': self.save_path,\n",
    "                }\n"
   ]
  },
  {
   "cell_type": "markdown",
   "metadata": {},
   "source": [
    "Enter the place where you store the species files"
   ]
  },
  {
   "cell_type": "code",
   "execution_count": null,
   "metadata": {},
   "outputs": [],
   "source": [
    "database = '/Volumes/Extreme SSD/relax-rotor/Species'"
   ]
  },
  {
   "cell_type": "markdown",
   "metadata": {},
   "source": [
    "### [OPTIONAL] A quick check if molecules are in the database (by searching the folder name)\n",
    "Reture the coordinates if found"
   ]
  },
  {
   "cell_type": "code",
   "execution_count": null,
   "metadata": {
    "scrolled": true
   },
   "outputs": [],
   "source": [
    "reactants = [\n",
    "    Molecule().from_smiles('O=CC(O)OO'),\n",
    "]\n",
    "species_base = os.listdir(database)\n",
    "for mol in reactants:\n",
    "    display(mol)\n",
    "    smi = mol.to_smiles()\n",
    "    if smi in species_base:\n",
    "        print(f'{smi}: Yes')\n",
    "        spc_path = os.path.join(database, smi)\n",
    "        print(spc_path)\n",
    "    else:\n",
    "        print(f'{smi}: No')"
   ]
  },
  {
   "cell_type": "markdown",
   "metadata": {},
   "source": [
    "## 1. Enter TS information"
   ]
  },
  {
   "cell_type": "code",
   "execution_count": null,
   "metadata": {},
   "outputs": [],
   "source": [
    "# Where species data is stored\n",
    "database = '/Volumes/Extreme SSD/relax-rotor/Arkane_Species_wo_bac'\n",
    "# Where the current TS folder\n",
    "cur_dir = '.'\n",
    "\n",
    "# list all entries in the database\n",
    "species_base = os.listdir(database)\n",
    "\n",
    "reactants = [\n",
    "    Molecule().from_smiles('CC(C)=C(C)C'),\n",
    "#     Molecule().from_smiles('CCC(N)C=O'),\n",
    "]\n",
    "\n",
    "products = [\n",
    "    Molecule().from_smiles('C=C(C)C(O[O])(C)C'),\n",
    "#     Molecule().from_smiles('C=CC'),\n",
    "]\n",
    "\n",
    "# Switch to the current TS folder \n",
    "os.chdir(cur_dir)"
   ]
  },
  {
   "cell_type": "markdown",
   "metadata": {},
   "source": [
    "### [OPTIONAL] rename all input.log file to output.out file"
   ]
  },
  {
   "cell_type": "code",
   "execution_count": null,
   "metadata": {},
   "outputs": [],
   "source": [
    "# source_dir = '/Users/xiaorui/C3ddb server/Calcs/dow_16'\n",
    "# for root, _, files in os.walk(source_dir):\n",
    "#     for file in files:\n",
    "#         if file == 'input.log':\n",
    "#             dir_name = os.path.join(cur_dir, os.path.basename(root))\n",
    "#             os.makedirs(dir_name, exist_ok=True)\n",
    "#             shutil.copy(os.path.join(root, file), os.path.join(dir_name, 'output.out'))\n",
    "        "
   ]
  },
  {
   "cell_type": "code",
   "execution_count": null,
   "metadata": {},
   "outputs": [],
   "source": [
    "for root, _, files in os.walk(cur_dir):\n",
    "    for file in files:\n",
    "        if file == 'input.log':\n",
    "            os.rename(os.path.join(root, file), os.path.join(root, 'output.out'))"
   ]
  },
  {
   "cell_type": "markdown",
   "metadata": {},
   "source": [
    "## 2. Create a Arkane input file"
   ]
  },
  {
   "cell_type": "code",
   "execution_count": null,
   "metadata": {},
   "outputs": [],
   "source": [
    "settings = {'reactants': [], 'products': [], 'TS': 'TS.py', 'tunneling': 'Eckart',\n",
    "            'save_path': os.path.join(cur_dir, 'input.py')}\n",
    "\n",
    "for label, mol in [('reactants', r) for r in reactants] + [('products', p) for p in products]:\n",
    "    display(mol)\n",
    "    smi = mol.to_smiles()\n",
    "    if smi in species_base:\n",
    "        print('Have a calculated entry')\n",
    "        settings[label].append((smi, os.path.relpath(os.path.join(database, smi, 'species.py'))))\n",
    "        # Optional print\n",
    "#         print(f\"'{os.path.relpath(os.path.join(database, smi, 'species.py'))}', structure=SMILES('{smi}'))\")\n",
    "\n"
   ]
  },
  {
   "cell_type": "markdown",
   "metadata": {},
   "source": [
    "Save the arkane input file for kinetics"
   ]
  },
  {
   "cell_type": "code",
   "execution_count": null,
   "metadata": {},
   "outputs": [],
   "source": [
    "ArkaneKinetics({**settings}).save()"
   ]
  },
  {
   "cell_type": "markdown",
   "metadata": {},
   "source": [
    "## 3. Create a TS.py file"
   ]
  },
  {
   "cell_type": "markdown",
   "metadata": {},
   "source": [
    "Don't have to worry about the rotor information too much "
   ]
  },
  {
   "cell_type": "code",
   "execution_count": null,
   "metadata": {},
   "outputs": [],
   "source": [
    "spc = {'label': 'A',\n",
    "       'directory': cur_dir,\n",
    "       'ts': True}\n",
    "\n",
    "ARKANE_SPEC = {\n",
    "    'model_chemistry': 'cbs-qb3',\n",
    "}\n",
    "\n",
    "classify_jobs(spc)\n",
    "find_latest_terminated_job(spc)\n",
    "check_converge_and_geom_consist(spc)\n",
    "generate_geom_info(spc)\n",
    "find_rotors_from_xyz(spc)\n",
    "filter_scans(spc, scan_filter='')\n",
    "check_scan_quality(spc)\n",
    "print(generate_summary(spc))\n",
    "print(spc['smiles'])"
   ]
  },
  {
   "cell_type": "code",
   "execution_count": null,
   "metadata": {},
   "outputs": [],
   "source": [
    "# Save path\n",
    "save_dir = cur_dir\n",
    "os.makedirs(save_dir, exist_ok=True)\n",
    "\n",
    "# Change species directory to rel path according to the save path\n",
    "change_to_relative_path(spc, save_dir)\n",
    "\n",
    "# Save TS.py\n",
    "arkane_species_path = os.path.join(save_dir, 'TS.py')\n",
    "# arkane_thermo_input_path = os.path.join(save_dir, 'input.py')\n",
    "settings = {'use_bond_corrections': False,\n",
    "            'bond_dict': {},\n",
    "            'save_path': arkane_species_path}\n",
    "ArkaneSpecies({**spc, **ARKANE_SPEC, **settings}).save()"
   ]
  },
  {
   "cell_type": "code",
   "execution_count": null,
   "metadata": {},
   "outputs": [],
   "source": [
    "import subprocess\n",
    "cmd = f'python ~/Apps/RMG-Py/Arkane.py input.py'\n",
    "\n",
    "subprocess.check_output(cmd,\n",
    "                        cwd=cur_dir,\n",
    "                        shell=True,\n",
    "                        timeout=5000)"
   ]
  },
  {
   "cell_type": "markdown",
   "metadata": {},
   "source": [
    "### [OPTIONAL] plot a TS rotor"
   ]
  },
  {
   "cell_type": "code",
   "execution_count": null,
   "metadata": {},
   "outputs": [],
   "source": [
    "path = '/Users/xiaorui/Dropbox/RMG/Co-OPTIMA shared/relax-rotor/Species/CC(=O)OC(C)(C)C/scan_1_2_4_5/output.out'\n",
    "energies, angles = parse_1d_scan_energies(path) \n",
    "plot_1d_rotor_scan(angles, energies)"
   ]
  }
 ],
 "metadata": {
  "@webio": {
   "lastCommId": null,
   "lastKernelId": null
  },
  "interpreter": {
   "hash": "85d1b8872cf2a473cd94ec60df3b0395d0e9b5ff43584203099638555d530dd7"
  },
  "kernelspec": {
   "display_name": "Python 3.7.7 64-bit ('arc_env': conda)",
   "name": "python3"
  },
  "language_info": {
   "codemirror_mode": {
    "name": "ipython",
    "version": 3
   },
   "file_extension": ".py",
   "mimetype": "text/x-python",
   "name": "python",
   "nbconvert_exporter": "python",
   "pygments_lexer": "ipython3",
   "version": "3.7.7"
  }
 },
 "nbformat": 4,
 "nbformat_minor": 4
}

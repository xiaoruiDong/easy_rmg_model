{
 "cells": [
  {
   "cell_type": "markdown",
   "id": "6bc44a3e",
   "metadata": {},
   "source": [
    "# Add comments to a non-annotated model based on chem_annotated.inp\n",
    "\n",
    "For an RMG job, under the `chemkin` folder, there will be a couple of `chem_XXX.inp` file and one `chem_annotated.inp`. The latter contains all the species and reactions found and is the only one with complete information about thermo and kinetics estimation details. This notebook help to annotate the intermediate models based on the `chem_annotated.inp`"
   ]
  },
  {
   "cell_type": "code",
   "execution_count": null,
   "id": "c4f9f48f",
   "metadata": {},
   "outputs": [],
   "source": [
    "import os\n",
    "\n",
    "from tqdm.notebook import tqdm\n",
    "\n",
    "from rmgpy.chemkin import load_chemkin_file\n",
    "from rmgpy.chemkin import save_chemkin_file, save_species_dictionary, save_transport_file"
   ]
  },
  {
   "cell_type": "code",
   "execution_count": null,
   "id": "01d2cbd8",
   "metadata": {},
   "outputs": [],
   "source": [
    "model_path = \"chemkin\"\n",
    "model1 = 'chem_annotated.inp'\n",
    "model2 = 'chem0259.inp'\n",
    "\n",
    "\n",
    "model_path = os.path.abspath(model_path)\n",
    "spcs1, rxns1 = load_chemkin_file(os.path.join(model_path, model1,),\n",
    "                                 os.path.join(model_path, 'species_dictionary.txt'),)\n",
    "spcs2, rxns2 = load_chemkin_file(os.path.join(model_path, model2,),\n",
    "                                 os.path.join(model_path, 'species_dictionary.txt'),)"
   ]
  },
  {
   "cell_type": "markdown",
   "id": "ed67076a",
   "metadata": {},
   "source": [
    "Update species"
   ]
  },
  {
   "cell_type": "code",
   "execution_count": null,
   "id": "e66a28b3",
   "metadata": {},
   "outputs": [],
   "source": [
    "updated_spcs = [spc for spc in spcs1 if spc.index <= 0]  # noble gas elements have weird species index.\n",
    "spcs_dict1 = {spc.index: spc for spc in spcs1}  # Build species dict for model 1\n",
    "\n",
    "# If the RMG runs correctly, all models should share the same sequence for species and reactions.\n",
    "# This for loop checks whether the above statement is true, though have no solution when it is false.\n",
    "for spc in tqdm(spcs2):\n",
    "    index = spc.index\n",
    "    if index <= 0:\n",
    "        continue\n",
    "    elif index not in spcs_dict1.keys():\n",
    "        print('Index inconsistency!')\n",
    "        print(spc)\n",
    "        continue\n",
    "    found_spc = spcs_dict1[index]\n",
    "    if found_spc.smiles == spc.smiles:\n",
    "        updated_spcs.append(found_spc)\n",
    "    elif found_spc.is_isomorphic(spc):\n",
    "        updated_spcs.append(found_spc)\n",
    "    else:\n",
    "        print('Species inconsistency!')\n",
    "        print(f'Index {index}')\n",
    "        print(spc, found_spc)"
   ]
  },
  {
   "cell_type": "markdown",
   "id": "f52de1a1",
   "metadata": {},
   "source": [
    "Update reactions"
   ]
  },
  {
   "cell_type": "code",
   "execution_count": null,
   "id": "35abe4f0",
   "metadata": {},
   "outputs": [],
   "source": [
    "updated_rxns = []\n",
    "rxns_dict1 = {rxn.index: rxn for rxn in rxns1}\n",
    "for rxn in tqdm(rxns2):\n",
    "    index = rxn.index\n",
    "    if index not in rxns_dict1.keys():\n",
    "        print('Index inconsistency!')\n",
    "        print(rxn)\n",
    "        continue\n",
    "    found_rxn = rxns_dict1[index]\n",
    "    r1 = set([r.smiles for r in found_rxn.reactants])\n",
    "    r2 = set([r.smiles for r in rxn.reactants])\n",
    "    p1 = set([p.smiles for p in found_rxn.products])\n",
    "    p2 = set([p.smiles for p in rxn.products])\n",
    "    if r1 == r2 and p1 == p2:\n",
    "        updated_rxns.append(found_rxn)\n",
    "    elif found_rxn.is_isomorphic(rxn):\n",
    "        updated_rxns.append(found_rxn)\n",
    "    else:\n",
    "        print('Reaction inconsistency!')\n",
    "        print(f'Index {index}')\n",
    "        print(rxn, found_rxn)"
   ]
  },
  {
   "cell_type": "markdown",
   "id": "073e3d10",
   "metadata": {},
   "source": [
    "Sort species and reactions based on their indexes"
   ]
  },
  {
   "cell_type": "code",
   "execution_count": null,
   "id": "2442b7f9",
   "metadata": {},
   "outputs": [],
   "source": [
    "updated_spcs.sort(key=lambda spc: spc.index)\n",
    "updated_rxns.sort(key=lambda rxn: rxn.index)"
   ]
  },
  {
   "cell_type": "markdown",
   "id": "a0278dd5",
   "metadata": {},
   "source": [
    "Save the model"
   ]
  },
  {
   "cell_type": "code",
   "execution_count": null,
   "id": "99a702ef",
   "metadata": {},
   "outputs": [],
   "source": [
    "############### INPUT REQUIRED  ###################\n",
    "# You can modify the variables below to change the save location\n",
    "save_dir = model_path\n",
    "save_chem_name = 'chem_annotated_new.inp'\n",
    "save_dict_name = 'species_dictionary_new.txt'\n",
    "#########################################\n",
    "os.makedirs(save_dir, exist_ok=True)\n",
    "save_chemkin_file(os.path.join(save_dir, save_chem_name), updated_spcs, updated_rxns, verbose=True)\n",
    "save_species_dictionary(os.path.join(save_dir, save_dict_name), updated_spcs)\n",
    "# save_transport_file(os.path.join(save_dir, 'tran.dat'), spcs)"
   ]
  },
  {
   "cell_type": "markdown",
   "id": "fb9f8009",
   "metadata": {},
   "source": [
    "Test readability"
   ]
  },
  {
   "cell_type": "code",
   "execution_count": null,
   "id": "88f812a0",
   "metadata": {},
   "outputs": [],
   "source": [
    "load_chemkin_file(os.path.join(save_dir, 'chem_annotated_new.inp'),\n",
    "                  os.path.join(save_dir, 'species_dictionary_new.txt'),)"
   ]
  }
 ],
 "metadata": {
  "@webio": {
   "lastCommId": null,
   "lastKernelId": null
  },
  "kernelspec": {
   "display_name": "Python 3.7.6 64-bit ('arc_env': conda)",
   "language": "python",
   "name": "python37664bitarcenvconda83c4abf9215d4a698ce68e2a44e6e6bc"
  },
  "language_info": {
   "codemirror_mode": {
    "name": "ipython",
    "version": 3
   },
   "file_extension": ".py",
   "mimetype": "text/x-python",
   "name": "python",
   "nbconvert_exporter": "python",
   "pygments_lexer": "ipython3",
   "version": "3.7.7"
  }
 },
 "nbformat": 4,
 "nbformat_minor": 5
}
